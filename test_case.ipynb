{
 "cells": [
  {
   "cell_type": "code",
   "execution_count": 16,
   "id": "6d927e7c",
   "metadata": {},
   "outputs": [],
   "source": [
    "class Customer(object): # класс пользователя у который есть id\n",
    "    def __init__(self, id:int):\n",
    "        self.id = id\n",
    "        \n",
    "    def find_group(self):\n",
    "        sum_= 0\n",
    "        for i in str(self.id):\n",
    "            sum_ += int(i)\n",
    "        return sum_"
   ]
  },
  {
   "cell_type": "code",
   "execution_count": 23,
   "id": "48f6522a",
   "metadata": {},
   "outputs": [],
   "source": [
    "def generate_customers(n,option=10000):#класс который генерирует пользователей для теста\n",
    "    array = []\n",
    "    for i in range(n):\n",
    "        id = option + i\n",
    "        obj = Customer(id)\n",
    "        array.append(obj)\n",
    "    return array"
   ]
  },
  {
   "cell_type": "code",
   "execution_count": 39,
   "id": "e14414fa",
   "metadata": {},
   "outputs": [],
   "source": [
    "def func_1(n_customers):#первая функция\n",
    "    count_of_groups = {}\n",
    "    array_of_customers = generate_customers(n_customers)\n",
    "    for i in array_of_customers:\n",
    "        if count_of_groups.get(i.find_group()) is None:\n",
    "            count_of_groups[i.find_group()] = 1\n",
    "        else:\n",
    "            count_of_groups[i.find_group()] +=1\n",
    "    return count_of_groups"
   ]
  },
  {
   "cell_type": "code",
   "execution_count": 40,
   "id": "a2e7db3e",
   "metadata": {},
   "outputs": [],
   "source": [
    "def func_2(n_customers, start_id):#вторая йункция\n",
    "    count_of_groups = {}\n",
    "    array_of_customers = generate_customers(n_customers,start_id)\n",
    "    for i in array_of_customers:\n",
    "        if count_of_groups.get(i.find_group()) is None:\n",
    "            count_of_groups[i.find_group()] = 1\n",
    "        else:\n",
    "            count_of_groups[i.find_group()] +=1\n",
    "    return count_of_groups"
   ]
  },
  {
   "cell_type": "code",
   "execution_count": null,
   "id": "53e62533",
   "metadata": {},
   "outputs": [],
   "source": [
    "#ваши условия задачи ? какой тип данных у ваших id ? "
   ]
  }
 ],
 "metadata": {
  "kernelspec": {
   "display_name": "Python 3 (ipykernel)",
   "language": "python",
   "name": "python3"
  },
  "language_info": {
   "codemirror_mode": {
    "name": "ipython",
    "version": 3
   },
   "file_extension": ".py",
   "mimetype": "text/x-python",
   "name": "python",
   "nbconvert_exporter": "python",
   "pygments_lexer": "ipython3",
   "version": "3.9.5"
  }
 },
 "nbformat": 4,
 "nbformat_minor": 5
}
